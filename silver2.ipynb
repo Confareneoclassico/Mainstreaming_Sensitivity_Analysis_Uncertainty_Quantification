{
 "cells": [
  {
   "cell_type": "markdown",
   "metadata": {},
   "source": [
    "# Silver as constraint to large scale PV development\n",
    "\n",
    "<!-- AUTHOR: Samuele Lo Piano -->\n",
    "\n",
    "**Samuele Lo Piano** <br/>\n",
    "[slopiano@gmail.com](mailto:s.lopiano@gmail.com) <br/>\n",
    "\n",
    "In this example we will analyse whether silver could constrain a large-scale\n",
    "development of solar photovoltaics. Silver is used in the contact metallization\n",
    "of crystalline-silicon-based PV cells. Remarkable efforts are being allocated\n",
    "towards silver-paste-use reduction. On the other hand, solar photovoltaics\n",
    "modules are being installed at an exponential increasing pace. Other parameters\n",
    "are also included in our model, i.e.:\n",
    "\n",
    "* other (non-industrial and industrial non-PV) uses of silver\n",
    "\n",
    "* increase in efficiency of the modules\n",
    "\n",
    "We will perform\n",
    "a sensitivity analysis of a model aimed at defining silver extraction capacity\n",
    "and the compatibility with its biophysical budget up to the year 2050.\n",
    "\n",
    "Will\n",
    "silver use in photovoltaics be the most pressing constraint or would other\n",
    "sector impose more severe burdens? How about the extraction capacity - on the\n",
    "base of the silver mining trends, could silver mining respond to a significant\n",
    "uprise in silver demand? And finally, how about silver natural budget, can we be\n",
    "sure the expansion of photovoltaics will not be constrained by silver natural\n",
    "availability?\n",
    "\n",
    "Let's start off by setting the plot environment and importing the\n",
    "relevant packages."
   ]
  },
  {
   "cell_type": "code",
   "execution_count": 1,
   "metadata": {
    "attributes": {
     "classes": [],
     "id": "",
     "n": "1"
    }
   },
   "outputs": [],
   "source": [
    "# ipython magic\n",
    "%matplotlib notebook\n",
    "%load_ext autoreload\n",
    "%autoreload 2"
   ]
  },
  {
   "cell_type": "code",
   "execution_count": 2,
   "metadata": {
    "attributes": {
     "classes": [],
     "id": "",
     "n": "2"
    }
   },
   "outputs": [],
   "source": [
    "%matplotlib inline\n",
    "\n",
    "# plot configuration\n",
    "import matplotlib\n",
    "import matplotlib.pyplot as plt\n",
    "import matplotlib.patches as mpatches\n",
    "\n",
    "plt.style.use(\"ggplot\")\n",
    "# import seaborn as sns # sets another style\n",
    "matplotlib.rcParams['lines.linewidth'] = 3\n",
    "fig_width, fig_height = (7.0,5.0)\n",
    "matplotlib.rcParams['figure.figsize'] = (fig_width, fig_height)\n",
    "\n",
    "# font = {'family' : 'sans-serif',\n",
    "#         'weight' : 'normal',\n",
    "#         'size'   : 18.0}\n",
    "# matplotlib.rc('font', **font)  # pass in the font dict as kwar"
   ]
  },
  {
   "cell_type": "code",
   "execution_count": 3,
   "metadata": {
    "attributes": {
     "classes": [],
     "id": "",
     "n": "3"
    }
   },
   "outputs": [],
   "source": [
    "# import modules\n",
    "import numpy as np\n",
    "from scipy import special\n",
    "import sobol_seq\n",
    "import pandas as pd\n",
    "from statsmodels.tsa.arima_model import ARIMA\n",
    "import seaborn as sns\n",
    "from mpl_toolkits.mplot3d import Axes3D"
   ]
  },
  {
   "cell_type": "markdown",
   "metadata": {},
   "source": [
    "The yearly silver demand can be described as such:\n",
    "\n",
    "<!-- Equation labels as\n",
    "ordinary links -->\n",
    "<div id=\"_auto1\"></div>\n",
    "\n",
    "$$\n",
    "\\begin{equation}\n",
    "m_{Ag,yearly}(t)\n",
    "=  \\frac{m_{Ag,PV} e^{-Ag_{contact paste}\\,t} PC_{PV} e^{-PC_{PVinstall}\\,t}}{PV_{efficiency} e^{cell_{efficiency}\\,t}}\\  + Ag_{nonPV}(t)\\\n",
    "\\label{_auto1} \\tag{1}\n",
    "\\end{equation}\n",
    "$$\n",
    "\n",
    "Where $t$ is time relative to the base\n",
    "year (2017); $m_{Ag,PV}$ is the amount of silver paste used per unit of\n",
    "photovoltaic cell (100 mg/cell) in the starting year (2017); $PV_{PC}$ is the\n",
    "yearly amount of first-generation crystalline-silicon-based power capacity\n",
    "installed in 2017 (74 GW); $Ag_{nonPV}$ is the amount of silver used outside of\n",
    "the solar photovoltaic sector; $PV_{efficiency}$ represents the typical cell\n",
    "efficiency (4.27 W/cell, corresponding to 17.5%) in the base year. The typical\n",
    "loss in efficiency from cells to modules has been considered as insignificant\n",
    "for the purposes of the present accounting.\n",
    "\n",
    "## Definining the variables and their distributions\n",
    "\n",
    "The distributions of our parameters have been defined from\n",
    "uniform Sobol distributions, which have been conveniently re-scaled or\n",
    "transformed to other size and distribution shapes."
   ]
  },
  {
   "cell_type": "code",
   "execution_count": 4,
   "metadata": {
    "attributes": {
     "classes": [],
     "id": "",
     "n": "4"
    }
   },
   "outputs": [],
   "source": [
    "# Sample basis distribution\n",
    "run = 50\n",
    "\n",
    "sampleTot = sobol_seq.i4_sobol_generate(12,run*2**10)"
   ]
  },
  {
   "cell_type": "markdown",
   "metadata": {},
   "source": [
    "The pace at which the silver-paste use for the contact metallization of solar\n",
    "photovoltaic cells has been defined through a stakeholder-\n",
    "engagment exercise.\n",
    "Field experts have been contacted and have been asked to produce a guesstimate\n",
    "on the silver use for contact metallization to the year 2050. These figures have\n",
    "been complemented with a report, whose findings have been extrapolated to the\n",
    "year 2050 - [ITRPV2018](http://www.itrpv.net/Reports/Downloads/)."
   ]
  },
  {
   "cell_type": "code",
   "execution_count": null,
   "metadata": {},
   "outputs": [],
   "source": [
    "# Current use of silver paste (mg/cell) - year 2017\n",
    "\n",
    "ITRPV2018silverCell2017 = 100\n",
    "ITRPVsilverCell2028 = 50\n",
    "ITRPV2018decreasePace= - 1/(2028-2017) * np.log(ITRPVsilverCell2028/ITRPV2018silverCell2017)\n",
    "\n",
    "def decreasePaceSilver2050(silverCell):\n",
    "    return - 1/(2050-2017) * np.log(silverCell/ITRPV2018silverCell2017)\n",
    "\n",
    "def mu(x):\n",
    "    return np.mean(x)\n",
    "\n",
    "def sigma(x):\n",
    "    return np.std(x)"
   ]
  },
  {
   "cell_type": "markdown",
   "metadata": {},
   "source": [
    "The upper boundary is conversely defined from the higher figure of the\n",
    "distribution. In order to generate this latter, the figures provided have been\n",
    "weighted according to the frequency of the responses received. A sample of\n",
    "quasi-random numbers is eventually obtained from the truncated normal\n",
    "distribution. A convenient size is chosen, i.e. $2^{10}$ - more than 1,000\n",
    "values. The reader is encouraged to evaluate the effect of the sample size on\n",
    "the basis of what has been illustrated for the convergence pace of the test\n",
    "functions in [another notebook of this series](testfunctions3.ipynb). Here the\n",
    "effect of the variability of the sample has been averaged out by repeating the\n",
    "simulation 50 times."
   ]
  },
  {
   "cell_type": "code",
   "execution_count": null,
   "metadata": {},
   "outputs": [],
   "source": [
    "silverCell2050DecreasePace = [ITRPV2018decreasePace, ITRPV2018decreasePace, \\\n",
    "decreasePaceSilver2050(ITRPV2018silverCell2017*0.01), decreasePaceSilver2050(ITRPV2018silverCell2017*0.01),\\\n",
    "decreasePaceSilver2050(10), decreasePaceSilver2050(15),decreasePaceSilver2050((20+10)/2), 0.05]"
   ]
  },
  {
   "cell_type": "markdown",
   "metadata": {},
   "source": [
    "The growth in photovoltaic-cell efficiency has been taken as deterministic in\n",
    "this study."
   ]
  },
  {
   "cell_type": "code",
   "execution_count": null,
   "metadata": {},
   "outputs": [],
   "source": [
    "# PV Cell Efficiency growth up to the year 2050 (W/cell)\n",
    "\n",
    "PVCellEfficiency2017 = 4.27\n",
    "\n",
    "PVCellEfficiency2050 = 6.1\n",
    "\n",
    "PVCellEfficiencyIncreasePace = 1/(2050-2017) * np.log(PVCellEfficiency2050/PVCellEfficiency2017)"
   ]
  },
  {
   "cell_type": "markdown",
   "metadata": {},
   "source": [
    "Analogously, the distribution for the trend in the installed PV power capacity\n",
    "is based on reports produced by energy agencies and research institutes (IEA,\n",
    "Greenpeace and the Fraunhofer institute). It has been assumed the market share\n",
    "of silicon-based PV solar panels would remain constant at 90%."
   ]
  },
  {
   "cell_type": "code",
   "execution_count": null,
   "metadata": {},
   "outputs": [],
   "source": [
    "# Current expansion of PV power capacity (GW) - year 2017\n",
    "\n",
    "PVPC2017 = 82\n",
    "CrystallineSiliconShare = 0.9\n",
    "IEA2050 = 4670\n",
    "Greenpeace2050 = 9295\n",
    "Fraunhofer2050 = 30700\n",
    "CPVPC2017 = 402\n",
    "\n",
    "IEA2050_CrystallineSiliconShare = IEA2050 * CrystallineSiliconShare\n",
    "Greenpeace2050_CrystallineSiliconShare = Greenpeace2050 * CrystallineSiliconShare\n",
    "Fraunhofer2050_CrystallineSiliconShare = Fraunhofer2050 * CrystallineSiliconShare\n",
    "PVPC2017_CrystallineSiliconShare = PVPC2017 * CrystallineSiliconShare\n",
    "\n",
    "PVPC2050IncreasePace = [0.025, 0.112, 0.061]"
   ]
  },
  {
   "cell_type": "markdown",
   "metadata": {},
   "source": [
    "From which a truncated normal distribution has been generated. The low-\n",
    "discrepancy Sobol sequence can be converted into other shape transformation by\n",
    "evaluating the inverse probability distribution. As the value of probability\n",
    "distribution shall be the same in order to maintain the low-discrepancy\n",
    "properties of the Sobol sequence, one can apply an inverse transformation to\n",
    "assure consistency. \n",
    "\n",
    "The figures have been defined on the basis of the\n",
    "[Thompson-Reuter/Silver Institute report](http://www.silverinstitute.org/wp-\n",
    "content/uploads/2017/08/WSS2017.pdf) as regards the trends of silver use in\n",
    "other industrial application and non-PV industrial applications. Their future\n",
    "projections are based on the autoregressive integrated moving average\n",
    "[ARIMA](https://en.wikipedia.org/wiki/Autoregressive_integrated_moving_average) approach."
   ]
  },
  {
   "cell_type": "code",
   "execution_count": null,
   "metadata": {},
   "outputs": [],
   "source": [
    "# Non-industrial + Industrial Non-PV\n",
    "otherAg = pd.DataFrame([28.8,29.4,32.8,26.0,30.7,32.5,29.3,33.4,33.2,34.0,29.9,28.7], index=[y for y in range(2006,2018)]).T"
   ]
  },
  {
   "cell_type": "markdown",
   "metadata": {},
   "source": [
    "The trend for the yearly extraction capacity has been retrieve from the USGS\n",
    "figures and is based on the projection from post World-War-II onwards."
   ]
  },
  {
   "cell_type": "code",
   "execution_count": null,
   "metadata": {},
   "outputs": [],
   "source": [
    "# Yearly extraction capacity\n",
    "\n",
    "Extraction = pd.DataFrame([3.97,5.22,5.44,5.57,6.32,6.21,6.7,6.9,6.67,7,7.02,7.19,7.43,6.91,7.32,7.37,7.65,7.78,7.73,8.01,8.3,8.03,8.56,9.2,9.36,9.17,9.38,9.7,9.26,9.43,9.84,10.3,\n",
    "10.7,10.8,10.7,11.2,11.5,12.1,13.1,13.1,13,14,15.5,16.4,16.6,15.6,14.9,14.1,14,14.9,15.1,16.5,17.2,17.6,18.1,18.7,18.8,18.8,20,20.8,20.1,20.8,21.3,22.3,23.3,23.3,24.3,25.7,\n",
    "26.8,27.6,25.7,25], index=[y for y in range(1946,2018)],columns=['Global Production'])"
   ]
  },
  {
   "cell_type": "markdown",
   "metadata": {},
   "source": [
    "As regards the biophysical available budget, the figures for the ultimate\n",
    "recoverable resources have been obtained by the literature. A uniform\n",
    "distribution has been selected also in this case, whose extremes are the most\n",
    "conservative and the most optmistic figures available in the literature.\n",
    "\n",
    "### Output functions\n",
    "\n",
    "We are now ready to generate the output functions: i) the\n",
    "demand from the photovoltaics sector is evaluated along ii) the overall silver\n",
    "demand and iii) its cumulative figure up to the year 2050. iv) The derivative of\n",
    "the yearly demand has also been computed. In order to analyse any viability\n",
    "constraint (technical incapacity to mine adequate supply of minerals to face the\n",
    "demand on a year-to-year base) and any potential feasibility constraint\n",
    "(availability of silver natural budget), the trends of these variables have also\n",
    "been assessed below. As regards the former, it is assumed silver from old-scrap\n",
    "recycling provides only 20% of the yearly supply. This figure is in line with\n",
    "the recent global trends reported. The latter is evaluated by comparing the\n",
    "figures for the cumulative extraction against silver natural budget."
   ]
  },
  {
   "cell_type": "code",
   "execution_count": null,
   "metadata": {},
   "outputs": [],
   "source": [
    "run = 50 \n",
    "\n",
    "S_silverCellR = []\n",
    "S_PVPCR = []\n",
    "S_otherAgR = []\n",
    "T_silverCellR = []\n",
    "T_PVPCR = []\n",
    "T_otherAgR = []\n",
    "yearlySilverR = []\n",
    "CumulativeSilverR = []\n",
    "PVPC2050R = []\n",
    "silverCellR = []\n",
    "otherAgR = []\n",
    "silverDeltaR = []\n",
    "DifferenceR = []\n",
    "\n",
    "for r in range(run):\n",
    "    sample = sampleTot[int(r*len(sampleTot)/run):int((r+1)*len(sampleTot)/run)].T\n",
    "\n",
    "    silverCellDistribution2 = sigma(silverCell2050DecreasePace)*2**0.5*special.erfinv(sample[0]*(1-special.erf(-mu(silverCell2050DecreasePace)/\n",
    "    (sigma(silverCell2050DecreasePace)*2**0.5)))+special.erf(-mu(silverCell2050DecreasePace)/\n",
    "    (sigma(silverCell2050DecreasePace)*2**0.5)))+mu(silverCell2050DecreasePace)\n",
    "\n",
    "    silverCellDistribution2B = sigma(silverCell2050DecreasePace)*2**0.5*special.erfinv(sample[6]*(1-special.erf(-mu(silverCell2050DecreasePace)/\n",
    "    (sigma(silverCell2050DecreasePace)*2**0.5)))+special.erf(-mu(silverCell2050DecreasePace)/\n",
    "    (sigma(silverCell2050DecreasePace)*2**0.5)))+mu(silverCell2050DecreasePace)\n",
    "\n",
    "    PVPC2050IncreasePaceDist = sigma(PVPC2050IncreasePace)*2**0.5*special.erfinv(sample[1]*(1-special.erf(-mu(PVPC2050IncreasePace)/\n",
    "    (sigma(PVPC2050IncreasePace)*2**0.5)))+special.erf(-mu(PVPC2050IncreasePace)/\n",
    "    (sigma(PVPC2050IncreasePace)*2**0.5)))+mu(PVPC2050IncreasePace)\n",
    "\n",
    "    PVPC2050IncreasePaceDistB = sigma(PVPC2050IncreasePace)*2**0.5*special.erfinv(sample[7]*(1-special.erf(-mu(PVPC2050IncreasePace)/\n",
    "    (sigma(PVPC2050IncreasePace)*2**0.5)))+special.erf(-mu(PVPC2050IncreasePace)/\n",
    "    (sigma(PVPC2050IncreasePace)*2**0.5)))+mu(PVPC2050IncreasePace)\n",
    "\n",
    "    Noise = sigma(sample[2])*2**0.5*special.erfinv(2*sample[2]-1)\n",
    "    NoiseB = sigma(sample[8])*2**0.5*special.erfinv(2*sample[8]-1)\n",
    "\n",
    "    # fit model Silver\n",
    "    model = ARIMA(otherAg.iloc[-1]+Noise[:len(otherAg.T)], order=(0, 1, 1))\n",
    "    model_fit = model.fit(disp=False)\n",
    "    # make prediction\n",
    "    yhat = model_fit.predict(len(otherAg.iloc[-1]), 44, typ='levels')\n",
    "    yhat.index = yhat.index + 2006\n",
    "    forecast, stderr, conf = model_fit.forecast(33)\n",
    "\n",
    "    modelB = ARIMA(otherAg.iloc[-1]+NoiseB[:len(otherAg.T)], order=(0, 1, 1))\n",
    "    model_fitB = modelB.fit(disp=False)\n",
    "    # make prediction\n",
    "    yhatB = model_fitB.predict(len(otherAg.iloc[-1]), 44, typ='levels')\n",
    "    yhatB.index = yhat.index\n",
    "    forecastB, stderrB, confB = model_fitB.forecast(33)\n",
    "\n",
    "    otherAgDist = pd.DataFrame([((forecast[i]-conf[i][0])/1.96)*2**0.5*special.erfinv(sample[3]*(1-special.erf(-forecast[i]/\n",
    "    (((forecast[i]-conf[i][0])/1.96)*2**0.5)))+special.erf(-forecast[i]/\n",
    "    (((forecast[i]-conf[i][0])/1.96)*2**0.5)))+forecast[i] for i in range(len(forecast))],index=[i for i in range(2018,2051)])\n",
    "\n",
    "    otherAgDistB = pd.DataFrame([((forecastB[i]-confB[i][0])/1.96)*2**0.5*special.erfinv(sample[9]*(1-special.erf(-forecastB[i]/\n",
    "    (((forecastB[i]-confB[i][0])/1.96)*2**0.5)))+special.erf(-forecastB[i]/\n",
    "    (((forecastB[i]-confB[i][0])/1.96)*2**0.5)))+forecastB[i] for i in range(len(forecastB))],index=[i for i in range(2018,2051)])\n",
    "\n",
    "    # Resources and reserves\n",
    "    distributionSilverReserveResource = sample[4]*(4000-530)+530\n",
    "    distributionSilverReserveResource = sample[10]*(4000-530)+530\n",
    "\n",
    "    # fit model Extraction\n",
    "    model2 = ARIMA(Extraction['Global Production']+Noise[:len(Extraction)], order=(2, 1, 1))\n",
    "    model_fit2 = model2.fit(disp=False)\n",
    "    # make prediction\n",
    "    yhat2 = model_fit2.predict(len(Extraction), 105, typ='levels')\n",
    "    yhat2.index = yhat2.index+1946\n",
    "    forecast2, stderr2, conf2 = model_fit2.forecast(33)\n",
    "\n",
    "    model2B = ARIMA(Extraction['Global Production']+NoiseB[:len(Extraction)], order=(2, 1, 1))\n",
    "    model_fit2B = model2B.fit(disp=False)\n",
    "    # make prediction\n",
    "    yhat2B = model_fit2B.predict(len(Extraction), 105, typ='levels')\n",
    "    yhat2B.index = yhat2B.index+1946\n",
    "    forecast2B, stderr2B, conf2B = model_fit2B.forecast(33)\n",
    "\n",
    "    # Extraction distribution\n",
    "    ExtractionDist = pd.DataFrame([((forecast2[i]-conf2[i][0])/1.96)*2**0.5*special.erfinv(sample[5]*(1-special.erf(-forecast2[i]/\n",
    "    (((forecast2[i]-conf2[i][0])/1.96)*2**0.5)))+special.erf(-forecast2[i]/\n",
    "    (((forecast2[i]-conf2[i][0])/1.96)*2**0.5)))+forecast2[i] for i in range(len(forecast2))],index = otherAgDist.index)\n",
    "\n",
    "    ExtractionDistB = pd.DataFrame([((forecast2B[i]-conf2B[i][0])/1.96)*2**0.5*special.erfinv(sample[11]*(1-special.erf(-forecast2B[i]/\n",
    "    (((forecast2B[i]-conf2B[i][0])/1.96)*2**0.5)))+special.erf(-forecast2B[i]/\n",
    "    (((forecast2B[i]-conf2B[i][0])/1.96)*2**0.5)))+forecast2B[i] for i in range(len(forecast2B))],index = otherAgDistB.index)\n",
    "\n",
    "    # Generation of the yearly silver output (1,000 metric tonnes)\n",
    "    PVDemand = pd.DataFrame([(ITRPV2018silverCell2017 * np.exp(-silverCellDistribution2*i1)/(PVCellEfficiency2017 * \\\n",
    "    np.exp(PVCellEfficiencyIncreasePace*i1)))* PVPC2017 * CrystallineSiliconShare * np.exp(PVPC2050IncreasePaceDist*i1)/1000 for i1\n",
    "    in range (2051-2018)],index=otherAgDist.index)\n",
    "\n",
    "    PVDemandAB1 = pd.DataFrame([(ITRPV2018silverCell2017 * np.exp(-silverCellDistribution2B*i1)/(PVCellEfficiency2017 * \\\n",
    "    np.exp(PVCellEfficiencyIncreasePace*i1)))* PVPC2017 * CrystallineSiliconShare * np.exp(PVPC2050IncreasePaceDist*i1)/1000 for i1\n",
    "    in range (2051-2018)],index=otherAgDist.index)\n",
    "\n",
    "    PVDemandAB2 = pd.DataFrame([(ITRPV2018silverCell2017 * np.exp(-silverCellDistribution2*i1)/(PVCellEfficiency2017 * \\\n",
    "    np.exp(PVCellEfficiencyIncreasePace*i1)))* PVPC2017 * CrystallineSiliconShare * np.exp(PVPC2050IncreasePaceDistB*i1)/1000 for i1\n",
    "    in range (2051-2018)],index=otherAgDist.index)\n",
    "\n",
    "    PVDemandB = pd.DataFrame([(ITRPV2018silverCell2017 * np.exp(-silverCellDistribution2B*i1)/(PVCellEfficiency2017 * \\\n",
    "    np.exp(PVCellEfficiencyIncreasePace*i1)))* PVPC2017 * CrystallineSiliconShare * np.exp(PVPC2050IncreasePaceDistB*i1)/1000 for i1\n",
    "    in range (2051-2018)],index=otherAgDist.index)\n",
    "\n",
    "    # Generation of the cumulative silver output (1,000 metric tonnes)\n",
    "    yearlySilver = PVDemand+otherAgDist\n",
    "    yearlySilverAB1 = PVDemandAB1+otherAgDist\n",
    "    yearlySilverAB2 = PVDemandAB2+otherAgDist\n",
    "    yearlySilverAB3 = PVDemand+otherAgDistB\n",
    "    yearlySilverB = PVDemandB+otherAgDistB\n",
    "\n",
    "    CumulativeSilver = yearlySilver.cumsum()\n",
    "\n",
    "    # Derivative Yearly Silver Demand\n",
    "    derivativeYearlySilver = yearlySilver.diff()\n",
    "\n",
    "    # Yearly Delta (viability, technological constraint)\n",
    "\n",
    "    silverDelta = ExtractionDist - 0.8*yearlySilver\n",
    "\n",
    "    # Cumulative Delta (feasibility, biophysical constraint)\n",
    "\n",
    "    Difference = distributionSilverReserveResource-CumulativeSilver\n",
    "\n",
    "    S_silverCell = 1-(0.5*((yearlySilverB-yearlySilverAB1)**2).mean(axis=1))/yearlySilverB.var(axis=1,ddof=0)\n",
    "    S_PVPC = 1-(0.5*((yearlySilverB-yearlySilverAB2)**2).mean(axis=1))/yearlySilverB.var(axis=1,ddof=0)\n",
    "    S_otherAg = 1-(0.5*((yearlySilverB-yearlySilverAB3)**2).mean(axis=1))/yearlySilverB.var(axis=1,ddof=0)\n",
    "    T_silverCell = (0.5*((yearlySilver-yearlySilverAB1)**2).mean(axis=1))/yearlySilver.var(axis=1,ddof=0)\n",
    "    T_PVPC = (0.5*((yearlySilver-yearlySilverAB2)**2).mean(axis=1))/yearlySilver.var(axis=1,ddof=0)\n",
    "    T_otherAg = (0.5*((yearlySilver-yearlySilverAB3)**2).mean(axis=1))/yearlySilver.var(axis=1,ddof=0)\n",
    "\n",
    "    S_silverCellR.append(S_silverCell)\n",
    "    S_PVPCR.append(S_PVPC)\n",
    "    S_otherAgR.append(S_otherAg)\n",
    "    T_silverCellR.append(T_silverCell)\n",
    "    T_PVPCR.append(T_PVPC)\n",
    "    T_otherAgR.append(T_otherAg)\n",
    "    yearlySilverR.append(yearlySilver)\n",
    "    PVPC2050R.append(PVPC2050IncreasePaceDist)\n",
    "    silverCellR.append(silverCellDistribution2)\n",
    "    CumulativeSilverR.append(CumulativeSilver)\n",
    "    otherAgR.append(otherAgDist)\n",
    "    silverDeltaR.append(silverDelta)\n",
    "    DifferenceR.append(Difference)\n",
    "\n",
    "S_silverCell_df = pd.DataFrame(S_silverCellR)\n",
    "S_PVPC_df = pd.DataFrame(S_PVPCR)\n",
    "S_otherAg_df = pd.DataFrame(S_otherAgR)\n",
    "T_silverCell_df = pd.DataFrame(T_silverCellR)\n",
    "T_PVPC_df = pd.DataFrame(T_PVPCR)\n",
    "T_otherAg_df = pd.DataFrame(T_otherAgR)"
   ]
  },
  {
   "cell_type": "code",
   "execution_count": null,
   "metadata": {},
   "outputs": [],
   "source": [
    "df20503d = pd.concat([pd.Series(np.array(silverCellR).flatten()),pd.Series(np.array(PVPC2050R).flatten()),\n",
    "pd.concat([oa.loc[2050] for oa in otherAgR],axis=0).reset_index(drop=True),                      \n",
    "pd.concat([yr.loc[2050] for yr in yearlySilverR],axis=0).reset_index(drop=True),\n",
    "pd.concat([cr.loc[2050] for cr in CumulativeSilverR],axis=0).reset_index(drop=True),\n",
    "pd.concat([sd.loc[2050] for sd in silverDeltaR],axis=0).reset_index(drop=True),\n",
    "pd.concat([df.loc[2050] for df in DifferenceR],axis=0).reset_index(drop=True)],axis=1)\n",
    "df20503d.columns = ['silverCell','PVPC','nonPVsilver','yearlySilver','CumulativeSilver','yearly Delta','Difference']"
   ]
  },
  {
   "cell_type": "markdown",
   "metadata": {},
   "source": [
    "Each of the distributions generated can be visually inspected to acknowledge its\n",
    "trend in the inquired timeframe with an **uncertainty analysis**."
   ]
  },
  {
   "cell_type": "code",
   "execution_count": null,
   "metadata": {},
   "outputs": [],
   "source": [
    "for i2, row in PVDemand.iterrows():\n",
    "    plt.plot([i2 for col in range(len(PVDemand.columns))], row, c = 'y', label = 'Silver PV Demand' if i2 == 2018 else \"\")\n",
    "plt.legend()\n",
    "plt.show()"
   ]
  },
  {
   "cell_type": "code",
   "execution_count": null,
   "metadata": {},
   "outputs": [],
   "source": [
    "for i2, row in yearlySilver.iterrows():\n",
    "    plt.plot([i2 for col in range(len(yearlySilver.columns))], row, c = 'r', label = 'Silver Total Demand' if i2 == 2018 else \"\")\n",
    "plt.legend()\n",
    "plt.show()"
   ]
  },
  {
   "cell_type": "code",
   "execution_count": null,
   "metadata": {},
   "outputs": [],
   "source": [
    "for i2, row in CumulativeSilver.iterrows():\n",
    "    plt.plot([i2 for col in range(len(CumulativeSilver.columns))], row, c = 'g', label = 'Cumulative Silver Demand' if i2 == 2018 else \"\")\n",
    "    plt.scatter(i2, row.mean(), c = 'm', label = 'Cumulative Silver demand mean' if i2 == 2018 else \"\")\n",
    "plt.legend()\n",
    "plt.show()"
   ]
  },
  {
   "cell_type": "code",
   "execution_count": null,
   "metadata": {},
   "outputs": [],
   "source": [
    "for i2, row in derivativeYearlySilver.iterrows():\n",
    "    plt.plot([i2 for col in range(len(derivativeYearlySilver.columns))], row, c = 'k', label = 'derivative Silver' if i2 == 2018 else \"\")\n",
    "plt.legend()\n",
    "plt.show()"
   ]
  },
  {
   "cell_type": "markdown",
   "metadata": {},
   "source": [
    "The trends of viability and feasibility can also be visually inspected."
   ]
  },
  {
   "cell_type": "code",
   "execution_count": null,
   "metadata": {},
   "outputs": [],
   "source": [
    "for i2, row in silverDelta.iterrows():\n",
    "    plt.plot([i2 for col in range(len(silverDelta.columns))], row, c = 'c', label = 'Silver delta' if i2 == 2018 else \"\")\n",
    "plt.show()"
   ]
  },
  {
   "cell_type": "code",
   "execution_count": null,
   "metadata": {},
   "outputs": [],
   "source": [
    "for i2, row in Difference.iterrows():\n",
    "    plt.plot([i2 for col in range(len(Difference.columns))], row, c = 'w', label = 'Difference' if i2 == 2018 else \"\")\n",
    "    plt.scatter(i2, row.mean(), c = 'm', label = 'Difference mean' if i2 == 2018 else \"\")\n",
    "plt.legend()\n",
    "plt.show()"
   ]
  },
  {
   "cell_type": "code",
   "execution_count": null,
   "metadata": {},
   "outputs": [],
   "source": [
    "for i, row in silverDelta.iterrows():\n",
    "    plt.bar(i,row[row>0].count(),color='b')\n",
    "    plt.bar(i,row[row<0].count(),bottom=row[row>0].count(),color='r')\n",
    "plt.show()"
   ]
  },
  {
   "cell_type": "code",
   "execution_count": null,
   "metadata": {},
   "outputs": [],
   "source": [
    "for i, row in Difference.iterrows():\n",
    "    plt.bar(i,row[row>0].count(),color='b')\n",
    "    plt.bar(i,row[row<0].count(),bottom=row[row>0].count(),color='r')\n",
    "plt.show()"
   ]
  },
  {
   "cell_type": "markdown",
   "metadata": {},
   "source": [
    "One can see that for some combination of values, the expansion of photovoltaics\n",
    "power capacity may not be feasible or viable. Precisely, constraints may appear\n",
    "from 2035 onwards. Viability issues seem more likely.\n",
    "\n",
    "## Sensitivity analysis\n",
    "\n",
    "What are the parameters whose uncertainty affects the output the most? This\n",
    "question is of primary importance if one wants to address where the potential\n",
    "constraint to large-scale development of solar photovoltaics would most likely\n",
    "come from. To this end, sensitivity analysis can play a role by helping us to\n",
    "assess which parameters uncertainty will affect the yearly silver demand the\n",
    "most and with it all the other derived variables.\n",
    "\n",
    "We will take advantage of\n",
    "three toolkits to apportion the uncertainty in the output to the input\n",
    "parameters uncertainty:\n",
    "\n",
    "i) scatter plots for a rough visual correlation;\n",
    "\n",
    "ii) Smirnov plots for a more quantitative visual inference;\n",
    "\n",
    "iii) Variance-based sensitivity indices.\n",
    "\n",
    "### Scatter plots\n",
    "\n",
    "These visualizations allow to evaluate\n",
    "how the uncertainty in the output varies along with the value of the input\n",
    "variables. These plots can be interpreted in this way: How much may the output\n",
    "variance be reduced by fixing the input? Is an overall trend visible or only a\n",
    "random pattern? The input parameter's uncertainty plays a tangible role on the\n",
    "output's uncertainty if one can discern a trend. Linear regressions have also\n",
    "been drawn on the scatter plots to enhance the visibility of these effects. The\n",
    "trends suggests an increasing importance over the course of the years for the PV\n",
    "variables and the reverse for non-PV silver."
   ]
  },
  {
   "cell_type": "code",
   "execution_count": null,
   "metadata": {},
   "outputs": [],
   "source": [
    "for i2, row in yearlySilver.iterrows():\n",
    "    plt.scatter(silverCellDistribution2, row, s = 2, label = 'silverCellDistribution'+str(i2))\n",
    "    plt.plot(np.unique(silverCellDistribution2), np.poly1d(np.polyfit(silverCellDistribution2, row, 1))(np.unique(silverCellDistribution2)), color='r')\n",
    "    plt.legend()\n",
    "    plt.show()"
   ]
  },
  {
   "cell_type": "code",
   "execution_count": null,
   "metadata": {},
   "outputs": [],
   "source": [
    "for i2, row in yearlySilver.iterrows():\n",
    "    plt.scatter(silverCellDistribution2, row, s = 2, label = 'silverCellDistribution'+str(i2))\n",
    "    plt.plot(np.unique(silverCellDistribution2), np.poly1d(np.polyfit(silverCellDistribution2, row, 1))(np.unique(silverCellDistribution2)), color='r')\n",
    "    plt.legend()\n",
    "    plt.show()"
   ]
  },
  {
   "cell_type": "code",
   "execution_count": null,
   "metadata": {},
   "outputs": [],
   "source": [
    "for i2, row in yearlySilver.iterrows():\n",
    "    plt.scatter(otherAgDist.loc[i2], row, s = 2, label = 'Ag_nonPV'+str(i2))\n",
    "    plt.plot(np.unique(otherAgDist.loc[i2]), np.poly1d(np.polyfit(otherAgDist.loc[i2], row, 1))(np.unique(otherAgDist.loc[i2])), color='b')\n",
    "    plt.legend()\n",
    "    plt.show()"
   ]
  },
  {
   "cell_type": "markdown",
   "metadata": {},
   "source": [
    "### Kolmogorov-Smirnov test\n",
    "\n",
    "This tool allows to define the importance on the\n",
    "variable on the basis of the distance between the 'behavioural' distribution and\n",
    "the 'non-behavioural' one. Behavioural corresponds to the feasibility/viability\n",
    "area. The opposite applies to the non-behavioural rangwe\n",
    "[saltelli_global_2008](https://onlinelibrary.wiley.com/doi/book/10.1002/9780470725184).\n",
    "This approach is part of the *Monte Carlo Filtering* methodology, more precisely\n",
    "to the *Regional Sensitivity Analysis* framework. The charts below are shown for\n",
    "the year 2050. The interested reader is invited to replicate the test for the\n",
    "other years as exercise."
   ]
  },
  {
   "cell_type": "code",
   "execution_count": null,
   "metadata": {},
   "outputs": [],
   "source": [
    "#Smirnov-Kolmorov Test\n",
    "\n",
    "BVsilverCell=df20503d['silverCell'][df20503d['yearly Delta']>0].sort_values()\n",
    "BVsilverCellCum = BVsilverCell.cumsum()/BVsilverCell.sum()\n",
    "NBVsilverCell=df20503d['silverCell'][df20503d['yearly Delta']<0].sort_values()\n",
    "NBVsilverCellCum = NBVsilverCell.cumsum()/NBVsilverCell.sum()\n",
    "\n",
    "ax1 = plt.plot(BVsilverCell,BVsilverCellCum,label='silverCell_B',c='b')\n",
    "plt.plot(NBVsilverCell,NBVsilverCellCum,label='silverCell_NB',c='r')\n",
    "plt.legend()"
   ]
  },
  {
   "cell_type": "code",
   "execution_count": null,
   "metadata": {},
   "outputs": [],
   "source": [
    "BFsilverCell=df20503d['silverCell'][df20503d['Difference']>0].sort_values()\n",
    "BFsilverCellCum = BFsilverCell.cumsum()/BFsilverCell.sum()\n",
    "NBFsilverCell=df20503d['silverCell'][df20503d['Difference']<0].sort_values()\n",
    "NBFsilverCellCum = NBFsilverCell.cumsum()/NBFsilverCell.sum()\n",
    "\n",
    "ax1 = plt.plot(BFsilverCell,BFsilverCellCum,label='silverCell_B',c='b')\n",
    "plt.plot(NBFsilverCell,NBFsilverCellCum,label='silverCell_NB',c='r')\n",
    "plt.legend()"
   ]
  },
  {
   "cell_type": "code",
   "execution_count": null,
   "metadata": {},
   "outputs": [],
   "source": [
    "BVPVPC=df20503d['PVPC'][df20503d['yearly Delta']>0].sort_values()\n",
    "BVPVPCCum = BVPVPC.cumsum()/BVPVPC.sum()\n",
    "NBVPVPC=df20503d['PVPC'][df20503d['yearly Delta']<0].sort_values()\n",
    "NBVPVPCCum = NBVPVPC.cumsum()/NBVPVPC.sum()\n",
    "\n",
    "ax1 = plt.plot(BVPVPC,BVPVPCCum,label='PVPC_B',c='b')\n",
    "plt.plot(NBVPVPC,NBVPVPCCum,label='PVPC_NB',c='r')\n",
    "plt.legend()"
   ]
  },
  {
   "cell_type": "code",
   "execution_count": null,
   "metadata": {},
   "outputs": [],
   "source": [
    "BFPVPC=df20503d['PVPC'][df20503d['Difference']>0].sort_values()\n",
    "BFPVPCCum = BFPVPC.cumsum()/BFPVPC.sum()\n",
    "NBFPVPC=df20503d['PVPC'][df20503d['Difference']<0].sort_values()\n",
    "NBFPVPCCum = NBFPVPC.cumsum()/NBFPVPC.sum()\n",
    "\n",
    "ax1 = plt.plot(BFPVPC,BFPVPCCum,label='PVPC_B',c='b')\n",
    "plt.plot(NBFPVPC,NBFPVPCCum,label='PVPC_NB',c='r')\n",
    "plt.legend()"
   ]
  },
  {
   "cell_type": "code",
   "execution_count": null,
   "metadata": {},
   "outputs": [],
   "source": [
    "#Smirnov-Kolmorov Test\n",
    "\n",
    "BVnonPVsilver=df20503d['nonPVsilver'][df20503d['yearly Delta']>0].sort_values()\n",
    "BVnonPVsilverCum = BVnonPVsilver.cumsum()/BVnonPVsilver.sum()\n",
    "NBVnonPVsilver=df20503d['nonPVsilver'][df20503d['yearly Delta']<0].sort_values()\n",
    "NBVnonPVsilverCum = NBVnonPVsilver.cumsum()/NBVnonPVsilver.sum()\n",
    "\n",
    "ax1 = plt.plot(BVnonPVsilver,BVnonPVsilverCum,label='nonPVsilver_B',c='b')\n",
    "plt.plot(NBVnonPVsilver,NBVnonPVsilverCum,label='nonPVsilver_NB',c='r')\n",
    "plt.legend()"
   ]
  },
  {
   "cell_type": "code",
   "execution_count": null,
   "metadata": {},
   "outputs": [],
   "source": [
    "#Smirnov-Kolmorov Test\n",
    "\n",
    "BFnonPVsilver=df20503d['nonPVsilver'][df20503d['Difference']>0].sort_values()\n",
    "BFnonPVsilverCum = BFnonPVsilver.cumsum()/BFnonPVsilver.sum()\n",
    "NBFnonPVsilver=df20503d['nonPVsilver'][df20503d['Difference']<0].sort_values()\n",
    "NBFnonPVsilverCum = NBFnonPVsilver.cumsum()/NBFnonPVsilver.sum()\n",
    "\n",
    "ax1 = plt.plot(BFnonPVsilver,BFnonPVsilverCum,label='nonPVsilver_B',c='b')\n",
    "plt.plot(NBFnonPVsilver,NBFnonPVsilverCum,label='nonPVsilver_NB',c='r')\n",
    "plt.legend()"
   ]
  },
  {
   "cell_type": "markdown",
   "metadata": {},
   "source": [
    "The two curves represent the cumulative distribution probabilities. The larger\n",
    "is the maximum distance between the curves, the more important is the input\n",
    "parameter's uncertainty on the output uncertainty. For an in-depth view of the\n",
    "methodology, one can have a look at [the above-mentioned\n",
    "contribution](https://onlinelibrary.wiley.com/doi/book/10.1002/9780470725184).\n",
    "The trends for the three variables inquired suggest silver non-PV use may be the\n",
    "most important variable in 2050 when assessing techno-economic (viability) and\n",
    "biophysical (feasibility) constraints. Yet the approach is far from being\n",
    "flawless as it addresses a factor significance, which may be different from\n",
    "importance (a Smirnov-insignificance result does not necessary imply non-\n",
    "importance). Furthermore, compensatory effects may occur along with more complex\n",
    "interactions unable to detect in the test's graphical framework.\n",
    "\n",
    "### Variance-based Sensitivity Analysis\n",
    "\n",
    "When one strives for a precise quantitative\n",
    "information, Sobol sensitivity indices are a very convenient mean to achieve it.\n",
    "We report here the first-order indices along with total indices in order to\n",
    "acknowledge for their potential higher order interaction. The model is additive\n",
    "with the exception of the potential interaction between silver use in PV cells\n",
    "and power capacity installed. The indices have been computed for the year 2050\n",
    "and are shown in the table below. One can easily compute the indices also for\n",
    "other years.\n",
    "\n",
    "The formula for the estimators are those of [Saltelli et al.\n",
    "2010](https://www.sciencedirect.com/science/article/pii/S0010465509003087)\n",
    "Jansen 1999, respectively (references therein, Table 2) for the first-order\n",
    "sensitivity index and the total sensitivity index. Their expressions are\n",
    "\n",
    "<!--\n",
    "Equation labels as ordinary links -->\n",
    "<div id=\"_auto2\"></div>\n",
    "\n",
    "$$\n",
    "\\begin{equation}\n",
    "S_i = V(Y)-\\frac{1}{2N}\n",
    "\\sum^N_{j=1}({f(B)_j}-{f(A_B^{(i)})_j})^2\n",
    "\\label{_auto2} \\tag{2}\n",
    "\\end{equation}\n",
    "$$\n",
    "\n",
    "<!-- Equation labels as ordinary links -->\n",
    "<div id=\"_auto3\"></div>\n",
    "\n",
    "$$\n",
    "\\begin{equation}\n",
    "T_i = \\frac{1}{2N} \\sum^N_{j=1}({f(A)_j}-{f(A_B^{(i)})_j})^2\n",
    "\\label{_auto3} \\tag{3}\n",
    "\\end{equation}\n",
    "$$\n",
    "\n",
    "The two sample matrices A and B have\n",
    "been obtained by slicing column-wise our Sobol sample distributions."
   ]
  },
  {
   "cell_type": "code",
   "execution_count": null,
   "metadata": {},
   "outputs": [],
   "source": [
    "# Sensitivity indices plots\n",
    "\n",
    "df_l = [S_silverCell_df,S_PVPC_df,T_silverCell_df-S_silverCell_df,S_otherAg_df]\n",
    "df_names = ['S_silverCell_df','S_PVPC_df','S_2order_silverCellPVPC','S_otherAg_df']\n",
    "colors = ['b','r','g','k']\n",
    "props = [dict(boxes=co, whiskers=co, medians=co, caps=co) for co in colors]\n",
    "fig, ax = plt.subplots(figsize=(20,10))\n",
    "patch = []\n",
    "for id, dfl in enumerate(df_l):\n",
    "    dfl.plot(kind='box',ax=ax,label=df_names[id],positions=[c+id/len(df_l) for c in dfl],color=props[id],\n",
    "            patch_artist=True,showfliers=False)\n",
    "    plt.ylim(-0.1,1.1)\n",
    "plt.legend()\n",
    "plt.show()"
   ]
  },
  {
   "cell_type": "markdown",
   "metadata": {},
   "source": [
    "Black: Silver use in non-photovoltaics; Blue: Silver use in contact\n",
    "metallization; Red: Expansion of solar power capacity; Green: Second order index\n",
    "for the interaction between silver use in contact metallization and the\n",
    "expansion of solar power capacity."
   ]
  },
  {
   "cell_type": "code",
   "execution_count": null,
   "metadata": {},
   "outputs": [],
   "source": [
    "fig = plt.figure(figsize=(20,10))\n",
    "ax = fig.gca(projection='3d')\n",
    "surf=ax.plot_trisurf(df20503d['silverCell'], df20503d['PVPC'], df20503d['CumulativeSilver'], cmap=plt.cm.jet, linewidth=0.01)\n",
    "ax.set_xlabel('Silver Contact metallization decrease pace')\n",
    "ax.set_ylabel('PV Power Capacity increase pace')\n",
    "ax.set_zlabel('Cumulative Silver 2050 (kton)')\n",
    "fig.colorbar(surf, shrink=0.5, aspect=5)\n",
    "plt.show()"
   ]
  },
  {
   "cell_type": "code",
   "execution_count": null,
   "metadata": {},
   "outputs": [],
   "source": [
    "fig = plt.figure(figsize=(20,10))\n",
    "ax = fig.gca(projection='3d')\n",
    "surf=ax.plot_trisurf(df20503d['silverCell'], df20503d['PVPC'], df20503d['yearlySilver'], cmap=plt.cm.jet, linewidth=0.01)\n",
    "ax.set_xlabel('Silver Contact metallization decrease pace')\n",
    "ax.set_ylabel('PV Power Capacity increase pace')\n",
    "ax.set_zlabel('Yearly Silver 2050 (kton)')\n",
    "fig.colorbar(surf, shrink=0.5, aspect=5)\n",
    "plt.show()"
   ]
  },
  {
   "cell_type": "markdown",
   "metadata": {},
   "source": [
    "## Conclusion\n",
    "\n",
    "The importance of the pace of reducing use of silver for contact\n",
    "metallization along with the increase in the installed PV power capacity\n",
    "augments over the course of the years as witnessed by the sensitivity indices.\n",
    "Higher order interactions between the two parameters can be easily appreciated."
   ]
  }
 ],
 "metadata": {},
 "nbformat": 4,
 "nbformat_minor": 2
}
