{
 "cells": [
  {
   "cell_type": "markdown",
   "metadata": {},
   "source": [
    "# Mainstreaming Sensitivity Analysis and Uncertainty Auditing\n",
    "\n",
    "<!-- AUTHOR: Samuele lo Piano -->\n",
    "<!-- AUTHOR: Leif Rune Hellevik -->\n",
    "<!-- AUTHOR: Andrea Saltelli -->\n",
    "<!-- AUTHOR: Philip B. Stark  -->\n",
    "<!-- AUTHOR: Jeroen Van der Sluijs -->\n",
    "\n",
    "**Samuele Lo Piano**, **Leif Rune Hellevik**, **Andrea Saltelli**, **Philip B. Stark**, **Jeroen Van der Sluijs**\n",
    "\n",
    "In this Git repository we have collected a number of notebooks that introduce uncertainty quantification and sensitivity analysis (UQSA). The material covers both epistemic (unknown and unquantifiable) uncertainty as well as stochastic uncertainty. This latter can be apportioned to the model input parameters through sensitivity analysis. Global sensitivity analysis - the approach where all the parameters are varied at the same time - is presented in its variance-based form through the calculation of Sobol sensitivity indices. The use of meta-modelling for sensitivity analysis is also described through Polynomial Chaos. Finally, sensitivity auditing - an approach to check the normative frames of any modelling activity undertaken - is also described.\n",
    "\n",
    " The notebooks on the above-mentioned sub-topics are found in the following sub-sections.\n",
    "\n",
    "## Uncertainty and quality in science for policy\n",
    "\n",
    "[In this notebook](WebResources.ipynb), the reader can find useful web-resources on this topic. A Python-based [interactive tool for the visualization of the NUSAP (Numeral Unit Spread Assessment Pedigree) approach](Interactive_plot.ipynb) to visualise NUSAP experts scores across categories is also part of this collection.\n",
    "\n",
    "* [Resources on _Uncertainty and quality in science for policy_](WebResources.ipynb)\n",
    "\n",
    "* [Visualisation tools for pedigree scores](Interactive_plot.ipynb)\n",
    "\n",
    "## Uncertainty quantification and sensitivity analysis tutorials\n",
    "\n",
    "Sensitivity analysis starting concepts can be found in the [book of Saltelli et al 2008](https://onlinelibrary.wiley.com/doi/book/10.1002/9780470725184) and in [this collection of notebooks](https://github.com/lrhgit/uqsa_tutorials)along with applications to the fields of biomechanics. Statistical preliminaries can be found [here](https://github.com/lrhgit/uqsa_tutorials/blob/master/preliminaries.ipynb) along with a [practical introduction](https://github.com/lrhgit/uqsa_tutorials/blob/master/sensitivity_introduction.ipynb), the [comparison of the global and local approach](https://github.com/lrhgit/uqsa_tutorials/blob/master/local_vs_global.ipynb) and the computations required to calculate [high order indices](https://github.com/lrhgit/uqsa_tutorials/blob/master/sensitivity_higher_order.ipynb). The features of the [Monte Carlo approach](https://github.com/lrhgit/uqsa_tutorials/blob/master/monte_carlo.ipynb) along with the [polynomial chaos expansion](https://github.com/lrhgit/uqsa_tutorials/blob/master/introduction_gpc.ipynb) are then presented along with an application to the [Ishigami test function](https://github.com/lrhgit/uqsa_tutorials/blob/master/ishigami_example.ipynb). [An application to the field of biomechanics](https://github.com/lrhgit/uqsa_tutorials/blob/master/wall_models.ipynb) along with [interactive exercises](https://github.com/lrhgit/uqsa_tutorials/blob/master/exercises.ipynb) are the final components of this collection of notebooks.\n",
    "\n",
    "### New notebooks on sensitivity analysis\n",
    "\n",
    " The notebooks developed in this series aim at presenting further tools useful to students, modelers and practitioners from the quantitative-assessment field. Specifically, the use of the [Sobol sequence](sobol_interactive.ipynb) -or other low-discrepancy sequences- can be fundamental in case of computationally demanding models. This feature can be appreciated by testing the convergence pace of the Sobol sequence against a purely random approach with a [series of test functions](testfunctions3.ipynb), that reproduce additive, non-additive and higher-order-interaction models. The so-called [G and G* test functions](https://www.sciencedirect.com/science/article/pii/S0010465509003087) can help to clarify this distinction by tuning the value of the additive constant in the model. The same base functions are typically used by practitioners from the field to [benchmark the performance](interactive_gstar_function.ipynb) of different approaches as illustrated for the [variance-based estimator](https://www.sciencedirect.com/science/article/pii/S0010465509003087) against [the polynomial chaos approach](interactive_g_function.ipynb). Finally, an application to a real case is presented by assessing whether [silver shortage could constrain large scale development of solar photovoltaics](https://github.com/pbstark/SA/blob/master/New_notebooks/silver2.ipynb) is presented.\n",
    "\n",
    "* [Sobol sequence](sobol_interactive.ipynb)\n",
    "\n",
    "* [Test functions for testing convergence pace](testfunctions3.ipynb)\n",
    "\n",
    "* [Introduction to polynomial chaos with chaospy](introduction_gpc.ipynb)\n",
    "\n",
    "* [Comparison of the polynomial chaos and variance-based estimator approaches for the G function](interactive_g_function.ipynb)\n",
    "\n",
    "* [Comparison of the polynomial chaos and variance-based estimator approaches for the G* function](interactive_gstar_function.ipynb)\n",
    "\n",
    "* [Comparison of the polyomial chaos and variance-based estimator approaches for the other test functions](PC_test_functions.ipynb)\n",
    "\n",
    "* [Silver as a potential constraint to large-scale development of photovoltaics](silver2.ipynb)\n",
    "\n",
    "## Sensitivity auditing\n",
    "\n",
    "This approach is an enhancement of sensitivity analysis to the full normative aspects of the modelling activity. A thorough description of the approach with a series of examples can be found [here](sensitivity_auditing.ipynb).\n",
    "\n",
    "* [Sensitivity Auditing](sensitivity_auditing.ipynb)\n",
    "\n",
    "## Acknowledgements\n",
    "\n",
    "This collection of notebooks were developed with financial support from the\n",
    "[Peder Sather Center for Advanced Study](http://sathercenter.berkeley.edu)"
   ]
  }
 ],
 "metadata": {
  "kernelspec": {
   "display_name": "Python 3",
   "language": "python",
   "name": "python3"
  },
  "language_info": {
   "codemirror_mode": {
    "name": "ipython",
    "version": 3
   },
   "file_extension": ".py",
   "mimetype": "text/x-python",
   "name": "python",
   "nbconvert_exporter": "python",
   "pygments_lexer": "ipython3",
   "version": "3.6.7"
  }
 },
 "nbformat": 4,
 "nbformat_minor": 2
}
