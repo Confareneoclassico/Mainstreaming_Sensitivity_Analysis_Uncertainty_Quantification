{
 "cells": [
  {
   "cell_type": "markdown",
   "metadata": {},
   "source": [
    "# NUSAP visualization tool\n",
    "\n",
    "<!-- AUTHOR: Samuele Lo Piano -->\n",
    "<!-- AUTHOR:\n",
    "Jeroen Van der Sluijs -->\n",
    "**Samuele Lo Piano**, **Jeroen Van der Sluijs** <br/>\n",
    "[slopiano@gmail.com](mailto:s.lopiano@gmail.com)"
   ]
  },
  {
   "cell_type": "code",
   "execution_count": null,
   "metadata": {},
   "outputs": [],
   "source": [
    "from __future__ import print_function\n",
    "from ipywidgets import interact, interactive, fixed, interact_manual\n",
    "import ipywidgets as widgets"
   ]
  },
  {
   "cell_type": "code",
   "execution_count": null,
   "metadata": {},
   "outputs": [],
   "source": [
    "import matplotlib.pyplot as plt\n",
    "import pandas as pd\n",
    "from math import pi\n",
    "import seaborn as sns\n",
    "import numpy as np"
   ]
  },
  {
   "cell_type": "code",
   "execution_count": null,
   "metadata": {},
   "outputs": [],
   "source": [
    "def f(x):\n",
    "    return x"
   ]
  },
  {
   "cell_type": "markdown",
   "metadata": {},
   "source": [
    "Please select whether you have an excel spreadsheet already available or you\n",
    "would rather interactively compile the NUSAP scores. If you have a file\n",
    "available, the first column should include the experts names (e.g. cell A2:\n",
    "'Expert1', cell A3: 'Expert 2' and so forth). The other columns should be about\n",
    "the criteria addressed (e.g. cell B1: 'proxy', cell C1: 'validation', cell D1:\n",
    "'reliability' and so forth). Please leave cell A1 empty. The cells are to be\n",
    "filled with the score a given expert attributes to a given proxy: e.g. cell 'B2'\n",
    "shall contain Expert 1's score on 'proxy'. Scores shall be included in the range\n",
    "0-4."
   ]
  },
  {
   "cell_type": "code",
   "execution_count": null,
   "metadata": {},
   "outputs": [],
   "source": [
    "chart = interactive(f, x=['file','compile'])\n",
    "display(chart)"
   ]
  },
  {
   "cell_type": "markdown",
   "metadata": {},
   "source": [
    "**You can skip the following cell if you do not have a file available.\n",
    "Otherwise, please insert your file path, including the document name.**\n",
    "**Extensions compatible: .xls, .xlsx**"
   ]
  },
  {
   "cell_type": "code",
   "execution_count": null,
   "metadata": {},
   "outputs": [],
   "source": [
    "if chart.children[0].value=='file':\n",
    "  path = widgets.Text()\n",
    "  display(path)"
   ]
  },
  {
   "cell_type": "markdown",
   "metadata": {},
   "source": [
    "You can skip to the **plot** cell if you already have a file available. <br/>\n",
    "Otherwise, select the number of experts."
   ]
  },
  {
   "cell_type": "code",
   "execution_count": null,
   "metadata": {},
   "outputs": [],
   "source": [
    "Expert = widgets.Dropdown(options=[e for e in range(2,9)],value=2,description='Experts:',disabled=False)\n",
    "display(Expert)"
   ]
  },
  {
   "cell_type": "markdown",
   "metadata": {},
   "source": [
    "Select the number of criteria and their names."
   ]
  },
  {
   "cell_type": "code",
   "execution_count": null,
   "metadata": {},
   "outputs": [],
   "source": [
    "Criteria = widgets.Dropdown(options=[c for c in range(2,11)],value=3,description='Criteria:',disabled=False,)\n",
    "display(Criteria)"
   ]
  },
  {
   "cell_type": "code",
   "execution_count": null,
   "metadata": {},
   "outputs": [],
   "source": [
    "accordion = widgets.Accordion(children=[widgets.Text() for cr in range(Criteria.value)])\n",
    "for cr in range(Criteria.value):\n",
    "    accordion.set_title(cr, 'Criterion'+str(cr+1))\n",
    "accordion"
   ]
  },
  {
   "cell_type": "markdown",
   "metadata": {},
   "source": [
    "Attribute a score to those criteria."
   ]
  },
  {
   "cell_type": "code",
   "execution_count": null,
   "metadata": {},
   "outputs": [],
   "source": [
    "tab_content = [['value' for cr in range(Criteria.value)] for ex in range(Expert.value)]\n",
    "children = [[widgets.Text(description=name) for name in tab_content[ex]] for ex in range(Expert.value)]\n",
    "tab = [widgets.Tab() for ex in range(Expert.value)]\n",
    "for ex in range(Expert.value):\n",
    "    tab[ex].children = children[ex]\n",
    "    keys = []\n",
    "    for cr in range(Criteria.value):\n",
    "        tab[ex].set_title(cr, accordion.children[cr].value)\n",
    "        keys.append(accordion.children[cr].value)\n",
    "    display(tab[ex])"
   ]
  },
  {
   "cell_type": "markdown",
   "metadata": {},
   "source": [
    "**Continue from here if you have selected the file option**. Set the dataframe for the final plot."
   ]
  },
  {
   "cell_type": "code",
   "execution_count": null,
   "metadata": {},
   "outputs": [],
   "source": [
    "# Set data\n",
    "if chart.children[0].value=='compile':\n",
    "  Se = pd.Series([\"Expert \"+str(ex+1) for ex in range(Expert.value)])  \n",
    "  df = pd.DataFrame({k:[tab[ex].children[index].value for ex in range(Expert.value)] for index, k in enumerate(keys)}, \\\n",
    "    index=[Se.values[ex] for ex in range(Expert.value)])\n",
    "if chart.children[0].value=='file':\n",
    "  df = pd.read_excel(path.value,index_col=0)"
   ]
  },
  {
   "cell_type": "markdown",
   "metadata": {},
   "source": [
    "Choose whether you would like to visualise the final data in a radar or boxplot."
   ]
  },
  {
   "cell_type": "code",
   "execution_count": null,
   "metadata": {},
   "outputs": [],
   "source": [
    "plot = interactive(f, x=['radar','boxplot'])\n",
    "display(plot)"
   ]
  },
  {
   "cell_type": "markdown",
   "metadata": {},
   "source": [
    "It is time to finally visualise your plot. :-)"
   ]
  },
  {
   "cell_type": "code",
   "execution_count": null,
   "metadata": {},
   "outputs": [],
   "source": [
    "#Radar plot based on https://python-graph-gallery.com/ - check it out, it is full of amazing features! :-)\n",
    "if plot.children[0].value == 'radar':\n",
    "        # ------- PART 1: Create background\n",
    "\n",
    "    # number of variable\n",
    "    categories=list(df)\n",
    "    N = len(categories)\n",
    "\n",
    "    # What will be the angle of each axis in the plot? (we divide the plot / number of variable)\n",
    "    angles = [n / float(N) * 2 * pi for n in range(N)]\n",
    "    angles += angles[:1]\n",
    "\n",
    "    # Initialise the spider plot\n",
    "    ax = plt.subplot(111, polar=True)\n",
    "\n",
    "    # If you want the first axis to be on top:\n",
    "    ax.set_theta_offset(pi / 2)\n",
    "    ax.set_theta_direction(-1)\n",
    "\n",
    "    # Draw one axe per variable + add labels labels yet\n",
    "    plt.xticks(angles[:-1], categories)\n",
    "\n",
    "    # Draw ylabels\n",
    "    ax.set_rlabel_position(0)\n",
    "    plt.yticks([1,2,3], [\"1\",\"2\",\"3\"], color=\"grey\", size=7)\n",
    "    plt.ylim(0,4)\n",
    "\n",
    "    colors = ['b','g','r','c','m','y','k','w']\n",
    "\n",
    "    # ------- PART 2: Add plots\n",
    "\n",
    "    # Plot each individual = each line of the data\n",
    "\n",
    "    for ex in range(len(df)):\n",
    "        values=df.iloc[ex].values.flatten().tolist()\n",
    "        values += values[:1]\n",
    "        ax.plot(angles, values, colors[ex], linewidth=1, linestyle='solid', label=\"expert \"+str(ex+1))\n",
    "        ax.fill(angles, values, colors[ex], alpha=0.1)\n",
    "        ax.legend(loc='upper right', bbox_to_anchor=(0.1, 0.1))\n",
    "    plt.show()\n",
    "else:\n",
    "    plt.imshow(np.linspace(0, 1, 100).reshape(1, -1), extent=[-0.25, 4.25, -1, len(df.columns)], aspect='auto', cmap='RdYlGn_r')\n",
    "    ax = sns.boxplot(data=df, orient=\"h\", color='#d8dcd6')"
   ]
  }
 ],
 "metadata": {},
 "nbformat": 4,
 "nbformat_minor": 2
}
